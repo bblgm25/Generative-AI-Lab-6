{
  "cells": [
    {
      "cell_type": "markdown",
      "id": "40da7d0b",
      "metadata": {
        "id": "40da7d0b"
      },
      "source": [
        "#Scenario 3: Customer Segmentation Query"
      ]
    },
    {
      "cell_type": "markdown",
      "id": "be835a2d",
      "metadata": {
        "id": "be835a2d"
      },
      "source": [
        "#Your Prompt\n",
        "\n",
        "Using SQL, create a query that segments customers based on purchasing behavior using the following tables:\n",
        "\n",
        "**user_activity**: user_id, last_login_date, feature_usage_count, account_type\n",
        "\n",
        "**transactions**: transaction_id, user_id, transaction_date, amount, platform\n",
        "\n",
        "**user_preferences**: user_id, communication_preference, interface_theme, notification_settings\n",
        "\n",
        "The query should identify users who have logged in within the last 30 days, filter customers in the top spending group (using top 20% logic or an equivalent spending threshold for smaller datasets), and retrieve their communication preferences, interface themes, and notification settings. Use CTEs or subqueries to keep the query clear and well-structured."
      ]
    },
    {
      "cell_type": "code",
      "execution_count": 14,
      "id": "dd7c7399",
      "metadata": {
        "colab": {
          "base_uri": "https://localhost:8080/"
        },
        "id": "dd7c7399",
        "outputId": "59ae1270-dd68-4453-f598-5d2080827c94"
      },
      "outputs": [
        {
          "output_type": "stream",
          "name": "stdout",
          "text": [
            "Segmented Customers:\n",
            "    user_id account_type  total_spent communication_preference interface_theme  \\\n",
            "0        1      Premium        420.5                    Email            Dark   \n",
            "1        3      Premium        400.0                     Push            Dark   \n",
            "\n",
            "  notification_settings  \n",
            "0               Enabled  \n",
            "1               Enabled  \n"
          ]
        }
      ],
      "source": [
        "#Generated code\n",
        "\n",
        "import sqlite3\n",
        "import pandas as pd\n",
        "\n",
        "# 1. Connect to an in-memory SQLite database\n",
        "conn = sqlite3.connect(':memory:')\n",
        "cursor = conn.cursor()\n",
        "\n",
        "# 2. Create mock tables\n",
        "cursor.executescript('''\n",
        "CREATE TABLE user_activity (\n",
        "    user_id INT,\n",
        "    last_login_date TEXT,\n",
        "    feature_usage_count INT,\n",
        "    account_type TEXT\n",
        ");\n",
        "CREATE TABLE transactions (\n",
        "    transaction_id INT,\n",
        "    user_id INT,\n",
        "    transaction_date TEXT,\n",
        "    amount REAL,\n",
        "    platform TEXT\n",
        ");\n",
        "CREATE TABLE user_preferences (\n",
        "    user_id INT,\n",
        "    communication_preference TEXT,\n",
        "    interface_theme TEXT,\n",
        "    notification_settings TEXT\n",
        ");\n",
        "''')\n",
        "\n",
        "# 3. Insert adjusted mock data (more recent logins and higher spending variety)\n",
        "cursor.executemany('INSERT INTO user_activity VALUES (?, ?, ?, ?)', [\n",
        "    (1, '2025-07-20', 10, 'Premium'),\n",
        "    (2, '2025-07-18', 5, 'Basic'),\n",
        "    (3, '2025-07-15', 3, 'Premium')\n",
        "])\n",
        "cursor.executemany('INSERT INTO transactions VALUES (?, ?, ?, ?, ?)', [\n",
        "    (1, 1, '2025-07-01', 120.50, 'Web'),\n",
        "    (2, 1, '2025-07-05', 300.00, 'Mobile'),\n",
        "    (3, 2, '2025-07-10', 250.00, 'Web'),\n",
        "    (4, 3, '2025-07-12', 400.00, 'Web')\n",
        "])\n",
        "cursor.executemany('INSERT INTO user_preferences VALUES (?, ?, ?, ?)', [\n",
        "    (1, 'Email', 'Dark', 'Enabled'),\n",
        "    (2, 'SMS', 'Light', 'Disabled'),\n",
        "    (3, 'Push', 'Dark', 'Enabled')\n",
        "])\n",
        "\n",
        "# 4. SQL Query (simplified top 20% logic for small datasets)\n",
        "query = '''\n",
        "WITH active_users AS (\n",
        "    SELECT user_id\n",
        "    FROM user_activity\n",
        "    WHERE DATE(last_login_date) >= DATE('now', '-30 day')\n",
        "),\n",
        "user_spending AS (\n",
        "    SELECT user_id, SUM(amount) AS total_spent\n",
        "    FROM transactions\n",
        "    GROUP BY user_id\n",
        "),\n",
        "spending_threshold AS (\n",
        "    SELECT MAX(total_spent) * 0.8 AS top_20_threshold\n",
        "    FROM user_spending\n",
        "),\n",
        "high_value_users AS (\n",
        "    SELECT us.user_id, us.total_spent\n",
        "    FROM user_spending us\n",
        "    CROSS JOIN spending_threshold st\n",
        "    WHERE us.total_spent >= st.top_20_threshold\n",
        ")\n",
        "SELECT ua.user_id,\n",
        "       ua.account_type,\n",
        "       hv.total_spent,\n",
        "       up.communication_preference,\n",
        "       up.interface_theme,\n",
        "       up.notification_settings\n",
        "FROM active_users a\n",
        "JOIN high_value_users hv ON a.user_id = hv.user_id\n",
        "JOIN user_activity ua ON a.user_id = ua.user_id\n",
        "JOIN user_preferences up ON a.user_id = up.user_id;\n",
        "'''\n",
        "\n",
        "# 5. Run query and show results\n",
        "df = pd.read_sql_query(query, conn)\n",
        "print(\"Segmented Customers:\\n\", df)\n"
      ]
    },
    {
      "cell_type": "markdown",
      "source": [
        "## Follow-up Prompts\n",
        "\n",
        "*  Add average transaction value and transaction count per user to the final result\n",
        "*   Modify the query so the active user window is, for example, the last X days, instead of fixed at 30 days."
      ],
      "metadata": {
        "id": "4L0GMbF9HTTf"
      },
      "id": "4L0GMbF9HTTf"
    },
    {
      "cell_type": "code",
      "source": [
        "#Final Solution\n",
        "\n",
        "import sqlite3\n",
        "import pandas as pd\n",
        "\n",
        "# Number of days to define active users\n",
        "days_active = 30  # You can change this value to test different windows\n",
        "\n",
        "# 1. Connect to an in-memory SQLite database\n",
        "conn = sqlite3.connect(':memory:')\n",
        "cursor = conn.cursor()\n",
        "\n",
        "# 2. Create mock tables\n",
        "cursor.executescript('''\n",
        "CREATE TABLE user_activity (\n",
        "    user_id INT,\n",
        "    last_login_date TEXT,\n",
        "    feature_usage_count INT,\n",
        "    account_type TEXT\n",
        ");\n",
        "CREATE TABLE transactions (\n",
        "    transaction_id INT,\n",
        "    user_id INT,\n",
        "    transaction_date TEXT,\n",
        "    amount REAL,\n",
        "    platform TEXT\n",
        ");\n",
        "CREATE TABLE user_preferences (\n",
        "    user_id INT,\n",
        "    communication_preference TEXT,\n",
        "    interface_theme TEXT,\n",
        "    notification_settings TEXT\n",
        ");\n",
        "''')\n",
        "\n",
        "# 3. Insert adjusted mock data\n",
        "cursor.executemany('INSERT INTO user_activity VALUES (?, ?, ?, ?)', [\n",
        "    (1, '2025-07-20', 10, 'Premium'),\n",
        "    (2, '2025-07-18', 5, 'Basic'),\n",
        "    (3, '2025-07-15', 3, 'Premium')\n",
        "])\n",
        "cursor.executemany('INSERT INTO transactions VALUES (?, ?, ?, ?, ?)', [\n",
        "    (1, 1, '2025-07-01', 120.50, 'Web'),\n",
        "    (2, 1, '2025-07-05', 300.00, 'Mobile'),\n",
        "    (3, 2, '2025-07-10', 250.00, 'Web'),\n",
        "    (4, 3, '2025-07-12', 400.00, 'Web')\n",
        "])\n",
        "cursor.executemany('INSERT INTO user_preferences VALUES (?, ?, ?, ?)', [\n",
        "    (1, 'Email', 'Dark', 'Enabled'),\n",
        "    (2, 'SMS', 'Light', 'Disabled'),\n",
        "    (3, 'Push', 'Dark', 'Enabled')\n",
        "])\n",
        "\n",
        "# 4. SQL Query (enhanced)\n",
        "query = f'''\n",
        "WITH active_users AS (\n",
        "    SELECT user_id\n",
        "    FROM user_activity\n",
        "    WHERE DATE(last_login_date) >= DATE('now', '-{days_active} day')\n",
        "),\n",
        "user_spending AS (\n",
        "    SELECT user_id,\n",
        "           SUM(amount) AS total_spent,\n",
        "           AVG(amount) AS avg_transaction_value,\n",
        "           COUNT(transaction_id) AS transaction_count\n",
        "    FROM transactions\n",
        "    GROUP BY user_id\n",
        "),\n",
        "spending_threshold AS (\n",
        "    SELECT MAX(total_spent) * 0.8 AS top_20_threshold\n",
        "    FROM user_spending\n",
        "),\n",
        "high_value_users AS (\n",
        "    SELECT us.user_id, us.total_spent, us.avg_transaction_value, us.transaction_count\n",
        "    FROM user_spending us\n",
        "    CROSS JOIN spending_threshold st\n",
        "    WHERE us.total_spent >= st.top_20_threshold\n",
        ")\n",
        "SELECT ua.user_id,\n",
        "       ua.account_type,\n",
        "       hv.total_spent,\n",
        "       hv.avg_transaction_value,\n",
        "       hv.transaction_count,\n",
        "       up.communication_preference,\n",
        "       up.interface_theme,\n",
        "       up.notification_settings\n",
        "FROM active_users a\n",
        "JOIN high_value_users hv ON a.user_id = hv.user_id\n",
        "JOIN user_activity ua ON a.user_id = ua.user_id\n",
        "JOIN user_preferences up ON a.user_id = up.user_id;\n",
        "'''\n",
        "\n",
        "# 5. Run query and show results\n",
        "df = pd.read_sql_query(query, conn)\n",
        "print(f\"Segmented Customers (Active in last {days_active} days):\\n\", df)\n"
      ],
      "metadata": {
        "colab": {
          "base_uri": "https://localhost:8080/"
        },
        "id": "NYV9hoG3JLUH",
        "outputId": "22d4da55-4b2b-43f7-f8ac-99666ceae3ae"
      },
      "id": "NYV9hoG3JLUH",
      "execution_count": 15,
      "outputs": [
        {
          "output_type": "stream",
          "name": "stdout",
          "text": [
            "Segmented Customers (Active in last 30 days):\n",
            "    user_id account_type  total_spent  avg_transaction_value  \\\n",
            "0        1      Premium        420.5                 210.25   \n",
            "1        3      Premium        400.0                 400.00   \n",
            "\n",
            "   transaction_count communication_preference interface_theme  \\\n",
            "0                  2                    Email            Dark   \n",
            "1                  1                     Push            Dark   \n",
            "\n",
            "  notification_settings  \n",
            "0               Enabled  \n",
            "1               Enabled  \n"
          ]
        }
      ]
    },
    {
      "cell_type": "markdown",
      "source": [
        "# Scenario Questions\n",
        "\n",
        "1.   Instead of using PERCENTILE_CONT (not available in SQLite), I calculated a dynamic threshold based on 80% of the highest total spending. This approach identifies top spenders even in small datasets.\n",
        "2.   The query uses DATE(last_login_date) >= DATE('now', '-X day'), where X is a parameter (days_active). This makes the active user window flexible instead of fixed at 30 days.\n",
        "3.Common Table Expressions (CTEs) break the logic into steps: identifying active users, calculating spending and thresholds, and selecting high-value users. This improves readability and allows reusing intermediate results without repeating logic.\n",
        "\n"
      ],
      "metadata": {
        "id": "Z3_lIXwAJaJf"
      },
      "id": "Z3_lIXwAJaJf"
    }
  ],
  "metadata": {
    "kernelspec": {
      "display_name": "base",
      "language": "python",
      "name": "python3"
    },
    "language_info": {
      "codemirror_mode": {
        "name": "ipython",
        "version": 3
      },
      "file_extension": ".py",
      "mimetype": "text/x-python",
      "name": "python",
      "nbconvert_exporter": "python",
      "pygments_lexer": "ipython3",
      "version": "3.12.7"
    },
    "colab": {
      "provenance": []
    }
  },
  "nbformat": 4,
  "nbformat_minor": 5
}